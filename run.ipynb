{
 "cells": [
  {
   "cell_type": "code",
   "execution_count": null,
   "metadata": {},
   "outputs": [],
   "source": [
    "from utils import *"
   ]
  },
  {
   "cell_type": "code",
   "execution_count": null,
   "metadata": {},
   "outputs": [],
   "source": [
    "if not os.path.exists('data\\companion_plants.csv'):\n",
    "    companion = Plant_Table(r\"https://en.wikipedia.org/wiki/List_of_companion_plants\", ['common name','scientific name','helps','helped by','attracts','repels/traps','avoid'], del_df=[5, 6], del_cols=['comments'], merges=[], unmerge=[])\n",
    "    weeds = Plant_Table(r\"https://en.wikipedia.org/wiki/List_of_beneficial_weeds\", ['common name','scientific name','helps','attracts/hosts'], del_df=[], del_cols=['medicinal','edibility','comments'], merges=[['repels/traps','repels','traps']], unmerge=[])\n",
    "    df = weeds + companion\n",
    "    df.save()\n",
    "    del companion, weeds, df\n",
    "\n",
    "plant_table = Plant_Table()\n"
   ]
  },
  {
   "cell_type": "code",
   "execution_count": null,
   "metadata": {},
   "outputs": [],
   "source": [
    "\n",
    "\n",
    "# find pages about mustard pests, tips, disease, companion plants, etc.\n",
    "musatard_links = get_links(\"\\\"mustard\\\" tips, disease, companion plants\")\n"
   ]
  },
  {
   "cell_type": "code",
   "execution_count": null,
   "metadata": {},
   "outputs": [],
   "source": [
    "\n",
    "\n",
    "webpages = get_webpages(musatard_links)"
   ]
  },
  {
   "cell_type": "code",
   "execution_count": null,
   "metadata": {},
   "outputs": [],
   "source": [
    "webpages"
   ]
  },
  {
   "cell_type": "code",
   "execution_count": null,
   "metadata": {},
   "outputs": [],
   "source": [
    "plant_table.df"
   ]
  },
  {
   "cell_type": "code",
   "execution_count": null,
   "metadata": {},
   "outputs": [],
   "source": [
    "pipe = pipeline(\"text-generation\", model=\"TheBloke/dolphin-2.1-mistral-7B-GPTQ\", device=0, use_fast=True, revision=\"gptq-8bit-32g-actorder_True\")\n",
    "\n"
   ]
  },
  {
   "cell_type": "code",
   "execution_count": null,
   "metadata": {},
   "outputs": [],
   "source": []
  },
  {
   "cell_type": "code",
   "execution_count": null,
   "metadata": {},
   "outputs": [],
   "source": [
    "test = template(system_message=\"Output the simplified names of plant database entries.\", search_results_message=\"Relevant names ['brassicacaeae', 'wild mustard']\", user_prompt=\"What is the simplified name for this entry?\")\n",
    "count_of_tokens = len(pipe.tokenizer(test)['input_ids'])\n",
    "tokens_available = (4096 - count_of_tokens - 1) // 4\n",
    "answer_preformatted = [re.sub('<.*?>', '', i) for i in pipe(test, max_length=tokens_available)[0]['generated_text'].split('<|im_end|>')]\n",
    "answer_preformatted"
   ]
  },
  {
   "cell_type": "code",
   "execution_count": null,
   "metadata": {},
   "outputs": [],
   "source": [
    "extract_answer_text = template(\"Add brackets around the answer keyword \\{\\} and return {keyword} with brackets.\", answer_preformatted[1] + answer_preformatted[-1], \"What is the single keyword that includes the answer? (e.g. '\\{answer\\}}')\")\n",
    "count_of_tokens = len(pipe.tokenizer(extract_answer_text)['input_ids'])\n",
    "tokens_available = 4096 - count_of_tokens - 1\n",
    "answer = [re.sub('<.*?>', '', i) for i in pipe(extract_answer_text, max_length=tokens_available)[0]['generated_text'].split('<|im_end|>')][-1].split('{')[1].split('}')[0].replace(\"\\\\\", \"\").strip()\n",
    "# remove everything between any <>\n",
    "answer"
   ]
  },
  {
   "cell_type": "code",
   "execution_count": null,
   "metadata": {},
   "outputs": [],
   "source": [
    "bcvn"
   ]
  },
  {
   "cell_type": "code",
   "execution_count": null,
   "metadata": {},
   "outputs": [],
   "source": [
    "# gradio\n",
    "example_plants = random.sample(plant_table.get_plant_names(), len(plant_table.get_plant_names()))\n",
    "\n",
    "def get_compatible_plants(plant_name, strict='strictly_intercompatible'):\n",
    "    compatible = plant_table.get_compatible_groups(plant_name, strict=strict)\n",
    "    if len(compatible) == 0:\n",
    "        return \"No compatible plants found.\"\n",
    "    else:\n",
    "        for i, item in enumerate(compatible):\n",
    "            compatible[i] = ', '.join(item)\n",
    "        compatible = '\\n\\n'.join(compatible)\n",
    "\n",
    "    return compatible\n",
    "\n",
    "#Blocks Interface (Black theme to prevent eye burnout)\n",
    "with gr.Blocks(title=\"Companion Planting\", theme=\"black\") as plant_demo:\n",
    "    with gr.Row():\n",
    "        with gr.Column():\n",
    "            plant_name = gr.Textbox(label=\"Plant Name\")\n",
    "            input_btn = gr.Button(label=\"Get Compatible Plants\")\n",
    "        with gr.Column():\n",
    "            output = gr.Textbox(label=\"Compatible Plant Groups\")\n",
    "\n",
    "    input_btn.click(get_compatible_plants, plant_name, outputs=output)\n",
    "    examples = gr.Examples(examples=[[example] for example in example_plants], label=\"Examples\", inputs=plant_name, examples_per_page=len(example_plants))\n",
    "\n",
    "\n",
    "\n",
    "\n",
    "plant_demo.launch(share=False, inbrowser=True, inline=False)"
   ]
  }
 ],
 "metadata": {
  "kernelspec": {
   "display_name": "base",
   "language": "python",
   "name": "python3"
  },
  "language_info": {
   "codemirror_mode": {
    "name": "ipython",
    "version": 3
   },
   "file_extension": ".py",
   "mimetype": "text/x-python",
   "name": "python",
   "nbconvert_exporter": "python",
   "pygments_lexer": "ipython3",
   "version": "3.11.6"
  },
  "orig_nbformat": 4
 },
 "nbformat": 4,
 "nbformat_minor": 2
}
