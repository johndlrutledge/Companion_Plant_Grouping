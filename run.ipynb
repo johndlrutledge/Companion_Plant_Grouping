{
 "cells": [
  {
   "cell_type": "code",
   "execution_count": null,
   "metadata": {},
   "outputs": [],
   "source": [
    "import requests\n",
    "from bs4 import BeautifulSoup\n",
    "import bs4\n",
    "import pandas as pd\n",
    "from utils import *\n",
    "import os\n",
    "import gradio as gr\n",
    "from copy import deepcopy\n",
    "import random\n",
    "#lxml html5lib "
   ]
  },
  {
   "cell_type": "code",
   "execution_count": null,
   "metadata": {},
   "outputs": [],
   "source": [
    "if not os.path.exists('data\\companion_plants.csv'):\n",
    "    companion = Plant_Table(r\"https://en.wikipedia.org/wiki/List_of_companion_plants\", ['common name','scientific name','helps','helped by','attracts','repels/traps','avoid'], del_df=[5, 6], del_cols=['comments'], merges=[], unmerge=[])\n",
    "    weeds = Plant_Table(r\"https://en.wikipedia.org/wiki/List_of_beneficial_weeds\", ['common name','scientific name','helps','attracts/hosts'], del_df=[], del_cols=['medicinal','edibility','comments'], merges=[['repels/traps','repels','traps']], unmerge=[])\n",
    "    df = weeds + companion\n",
    "    df.save()\n",
    "    del companion, weeds, df\n",
    "\n",
    "df = Plant_Table()\n"
   ]
  },
  {
   "cell_type": "code",
   "execution_count": null,
   "metadata": {},
   "outputs": [],
   "source": [
    "# gradio\n",
    "example_plants = random.sample(df.get_plant_names(), len(df.get_plant_names()))\n",
    "\n",
    "def get_compatible_plants(plant_name, strict='strictly_intercompatible'):\n",
    "    compatible = df.get_compatible_groups(plant_name, strict=strict)\n",
    "    if len(compatible) == 0:\n",
    "        return \"No compatible plants found.\"\n",
    "    else:\n",
    "        for i, item in enumerate(compatible):\n",
    "            compatible[i] = ', '.join(item)\n",
    "        compatible = '\\n\\n'.join(compatible)\n",
    "\n",
    "    return compatible\n",
    "\n",
    "## Interface\n",
    "# plant_demo = gr.Interface(\n",
    "#     fn=get_compatible_plants, \n",
    "#     inputs=\"text\", \n",
    "#     outputs=\"text\", \n",
    "#     title=\"Companion Planting\", \n",
    "#     description=\"Enter a plant name to see groups of plants which are compatible with it.\", \n",
    "#     examples=[[example] for example in example_plants],\n",
    "#     allow_flagging='never',\n",
    "#     examples_per_page=len(example_plants),\n",
    "# )\n",
    "\n",
    "#Blocks Interface (more customization)\n",
    "with gr.Blocks(title=\"Companion Planting\") as plant_demo:\n",
    "    with gr.Row():\n",
    "        with gr.Column():\n",
    "            plant_name = gr.Textbox(label=\"Plant Name\")\n",
    "            input_btn = gr.Button(label=\"Get Compatible Plants\")\n",
    "        with gr.Column():\n",
    "            output = gr.Textbox(label=\"Compatible Plants\")\n",
    "\n",
    "    input_btn.click(get_compatible_plants, plant_name, outputs=output)\n",
    "    examples = gr.Examples(examples=[[example] for example in example_plants], label=\"Examples\", inputs=plant_name, examples_per_page=len(example_plants))\n",
    "\n",
    "# Tabbed Interface\n",
    "\n",
    "            \n",
    "\n",
    "plant_demo.launch(share=False, inbrowser=True, inline=False)"
   ]
  }
 ],
 "metadata": {
  "kernelspec": {
   "display_name": "base",
   "language": "python",
   "name": "python3"
  },
  "language_info": {
   "codemirror_mode": {
    "name": "ipython",
    "version": 3
   },
   "file_extension": ".py",
   "mimetype": "text/x-python",
   "name": "python",
   "nbconvert_exporter": "python",
   "pygments_lexer": "ipython3",
   "version": "3.11.3"
  },
  "orig_nbformat": 4
 },
 "nbformat": 4,
 "nbformat_minor": 2
}
